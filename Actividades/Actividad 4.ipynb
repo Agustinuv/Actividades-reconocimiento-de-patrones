{
  "nbformat": 4,
  "nbformat_minor": 0,
  "metadata": {
    "colab": {
      "provenance": []
    },
    "kernelspec": {
      "name": "python3",
      "display_name": "Python 3"
    },
    "language_info": {
      "name": "python"
    },
    "widgets": {
      "application/vnd.jupyter.widget-state+json": {
        "15473549cd4840078b47052003b280ae": {
          "model_module": "@jupyter-widgets/controls",
          "model_name": "HBoxModel",
          "model_module_version": "1.5.0",
          "state": {
            "_dom_classes": [],
            "_model_module": "@jupyter-widgets/controls",
            "_model_module_version": "1.5.0",
            "_model_name": "HBoxModel",
            "_view_count": null,
            "_view_module": "@jupyter-widgets/controls",
            "_view_module_version": "1.5.0",
            "_view_name": "HBoxView",
            "box_style": "",
            "children": [
              "IPY_MODEL_14d9153c2c444827bcf955e508523109",
              "IPY_MODEL_c2d27333c147438caf439df259858647",
              "IPY_MODEL_5bd7af62a5344294aeda214d84534ef1"
            ],
            "layout": "IPY_MODEL_b1df04f3809e4fa5920e85181d488cea"
          }
        },
        "14d9153c2c444827bcf955e508523109": {
          "model_module": "@jupyter-widgets/controls",
          "model_name": "HTMLModel",
          "model_module_version": "1.5.0",
          "state": {
            "_dom_classes": [],
            "_model_module": "@jupyter-widgets/controls",
            "_model_module_version": "1.5.0",
            "_model_name": "HTMLModel",
            "_view_count": null,
            "_view_module": "@jupyter-widgets/controls",
            "_view_module_version": "1.5.0",
            "_view_name": "HTMLView",
            "description": "",
            "description_tooltip": null,
            "layout": "IPY_MODEL_fad7041b7741455b85a602494ddb8911",
            "placeholder": "​",
            "style": "IPY_MODEL_b9a2d7e148f74fe58fa3f444fd8e197e",
            "value": "100%"
          }
        },
        "c2d27333c147438caf439df259858647": {
          "model_module": "@jupyter-widgets/controls",
          "model_name": "FloatProgressModel",
          "model_module_version": "1.5.0",
          "state": {
            "_dom_classes": [],
            "_model_module": "@jupyter-widgets/controls",
            "_model_module_version": "1.5.0",
            "_model_name": "FloatProgressModel",
            "_view_count": null,
            "_view_module": "@jupyter-widgets/controls",
            "_view_module_version": "1.5.0",
            "_view_name": "ProgressView",
            "bar_style": "success",
            "description": "",
            "description_tooltip": null,
            "layout": "IPY_MODEL_1fc87e600c3142a49f1ced88a7cb3064",
            "max": 120,
            "min": 0,
            "orientation": "horizontal",
            "style": "IPY_MODEL_e909ae96e8e04fbd94574b1122696416",
            "value": 120
          }
        },
        "5bd7af62a5344294aeda214d84534ef1": {
          "model_module": "@jupyter-widgets/controls",
          "model_name": "HTMLModel",
          "model_module_version": "1.5.0",
          "state": {
            "_dom_classes": [],
            "_model_module": "@jupyter-widgets/controls",
            "_model_module_version": "1.5.0",
            "_model_name": "HTMLModel",
            "_view_count": null,
            "_view_module": "@jupyter-widgets/controls",
            "_view_module_version": "1.5.0",
            "_view_name": "HTMLView",
            "description": "",
            "description_tooltip": null,
            "layout": "IPY_MODEL_a544ae4e27d34a2a97d1991aeaeb0423",
            "placeholder": "​",
            "style": "IPY_MODEL_5b68ca5aceb44b5c9439f0d6b9d54f78",
            "value": " 120/120 [00:30&lt;00:00,  5.21it/s]"
          }
        },
        "b1df04f3809e4fa5920e85181d488cea": {
          "model_module": "@jupyter-widgets/base",
          "model_name": "LayoutModel",
          "model_module_version": "1.2.0",
          "state": {
            "_model_module": "@jupyter-widgets/base",
            "_model_module_version": "1.2.0",
            "_model_name": "LayoutModel",
            "_view_count": null,
            "_view_module": "@jupyter-widgets/base",
            "_view_module_version": "1.2.0",
            "_view_name": "LayoutView",
            "align_content": null,
            "align_items": null,
            "align_self": null,
            "border": null,
            "bottom": null,
            "display": null,
            "flex": null,
            "flex_flow": null,
            "grid_area": null,
            "grid_auto_columns": null,
            "grid_auto_flow": null,
            "grid_auto_rows": null,
            "grid_column": null,
            "grid_gap": null,
            "grid_row": null,
            "grid_template_areas": null,
            "grid_template_columns": null,
            "grid_template_rows": null,
            "height": null,
            "justify_content": null,
            "justify_items": null,
            "left": null,
            "margin": null,
            "max_height": null,
            "max_width": null,
            "min_height": null,
            "min_width": null,
            "object_fit": null,
            "object_position": null,
            "order": null,
            "overflow": null,
            "overflow_x": null,
            "overflow_y": null,
            "padding": null,
            "right": null,
            "top": null,
            "visibility": null,
            "width": null
          }
        },
        "fad7041b7741455b85a602494ddb8911": {
          "model_module": "@jupyter-widgets/base",
          "model_name": "LayoutModel",
          "model_module_version": "1.2.0",
          "state": {
            "_model_module": "@jupyter-widgets/base",
            "_model_module_version": "1.2.0",
            "_model_name": "LayoutModel",
            "_view_count": null,
            "_view_module": "@jupyter-widgets/base",
            "_view_module_version": "1.2.0",
            "_view_name": "LayoutView",
            "align_content": null,
            "align_items": null,
            "align_self": null,
            "border": null,
            "bottom": null,
            "display": null,
            "flex": null,
            "flex_flow": null,
            "grid_area": null,
            "grid_auto_columns": null,
            "grid_auto_flow": null,
            "grid_auto_rows": null,
            "grid_column": null,
            "grid_gap": null,
            "grid_row": null,
            "grid_template_areas": null,
            "grid_template_columns": null,
            "grid_template_rows": null,
            "height": null,
            "justify_content": null,
            "justify_items": null,
            "left": null,
            "margin": null,
            "max_height": null,
            "max_width": null,
            "min_height": null,
            "min_width": null,
            "object_fit": null,
            "object_position": null,
            "order": null,
            "overflow": null,
            "overflow_x": null,
            "overflow_y": null,
            "padding": null,
            "right": null,
            "top": null,
            "visibility": null,
            "width": null
          }
        },
        "b9a2d7e148f74fe58fa3f444fd8e197e": {
          "model_module": "@jupyter-widgets/controls",
          "model_name": "DescriptionStyleModel",
          "model_module_version": "1.5.0",
          "state": {
            "_model_module": "@jupyter-widgets/controls",
            "_model_module_version": "1.5.0",
            "_model_name": "DescriptionStyleModel",
            "_view_count": null,
            "_view_module": "@jupyter-widgets/base",
            "_view_module_version": "1.2.0",
            "_view_name": "StyleView",
            "description_width": ""
          }
        },
        "1fc87e600c3142a49f1ced88a7cb3064": {
          "model_module": "@jupyter-widgets/base",
          "model_name": "LayoutModel",
          "model_module_version": "1.2.0",
          "state": {
            "_model_module": "@jupyter-widgets/base",
            "_model_module_version": "1.2.0",
            "_model_name": "LayoutModel",
            "_view_count": null,
            "_view_module": "@jupyter-widgets/base",
            "_view_module_version": "1.2.0",
            "_view_name": "LayoutView",
            "align_content": null,
            "align_items": null,
            "align_self": null,
            "border": null,
            "bottom": null,
            "display": null,
            "flex": null,
            "flex_flow": null,
            "grid_area": null,
            "grid_auto_columns": null,
            "grid_auto_flow": null,
            "grid_auto_rows": null,
            "grid_column": null,
            "grid_gap": null,
            "grid_row": null,
            "grid_template_areas": null,
            "grid_template_columns": null,
            "grid_template_rows": null,
            "height": null,
            "justify_content": null,
            "justify_items": null,
            "left": null,
            "margin": null,
            "max_height": null,
            "max_width": null,
            "min_height": null,
            "min_width": null,
            "object_fit": null,
            "object_position": null,
            "order": null,
            "overflow": null,
            "overflow_x": null,
            "overflow_y": null,
            "padding": null,
            "right": null,
            "top": null,
            "visibility": null,
            "width": null
          }
        },
        "e909ae96e8e04fbd94574b1122696416": {
          "model_module": "@jupyter-widgets/controls",
          "model_name": "ProgressStyleModel",
          "model_module_version": "1.5.0",
          "state": {
            "_model_module": "@jupyter-widgets/controls",
            "_model_module_version": "1.5.0",
            "_model_name": "ProgressStyleModel",
            "_view_count": null,
            "_view_module": "@jupyter-widgets/base",
            "_view_module_version": "1.2.0",
            "_view_name": "StyleView",
            "bar_color": null,
            "description_width": ""
          }
        },
        "a544ae4e27d34a2a97d1991aeaeb0423": {
          "model_module": "@jupyter-widgets/base",
          "model_name": "LayoutModel",
          "model_module_version": "1.2.0",
          "state": {
            "_model_module": "@jupyter-widgets/base",
            "_model_module_version": "1.2.0",
            "_model_name": "LayoutModel",
            "_view_count": null,
            "_view_module": "@jupyter-widgets/base",
            "_view_module_version": "1.2.0",
            "_view_name": "LayoutView",
            "align_content": null,
            "align_items": null,
            "align_self": null,
            "border": null,
            "bottom": null,
            "display": null,
            "flex": null,
            "flex_flow": null,
            "grid_area": null,
            "grid_auto_columns": null,
            "grid_auto_flow": null,
            "grid_auto_rows": null,
            "grid_column": null,
            "grid_gap": null,
            "grid_row": null,
            "grid_template_areas": null,
            "grid_template_columns": null,
            "grid_template_rows": null,
            "height": null,
            "justify_content": null,
            "justify_items": null,
            "left": null,
            "margin": null,
            "max_height": null,
            "max_width": null,
            "min_height": null,
            "min_width": null,
            "object_fit": null,
            "object_position": null,
            "order": null,
            "overflow": null,
            "overflow_x": null,
            "overflow_y": null,
            "padding": null,
            "right": null,
            "top": null,
            "visibility": null,
            "width": null
          }
        },
        "5b68ca5aceb44b5c9439f0d6b9d54f78": {
          "model_module": "@jupyter-widgets/controls",
          "model_name": "DescriptionStyleModel",
          "model_module_version": "1.5.0",
          "state": {
            "_model_module": "@jupyter-widgets/controls",
            "_model_module_version": "1.5.0",
            "_model_name": "DescriptionStyleModel",
            "_view_count": null,
            "_view_module": "@jupyter-widgets/base",
            "_view_module_version": "1.2.0",
            "_view_name": "StyleView",
            "description_width": ""
          }
        },
        "1487e8b3b59747aa90a87f46de68ece8": {
          "model_module": "@jupyter-widgets/controls",
          "model_name": "HBoxModel",
          "model_module_version": "1.5.0",
          "state": {
            "_dom_classes": [],
            "_model_module": "@jupyter-widgets/controls",
            "_model_module_version": "1.5.0",
            "_model_name": "HBoxModel",
            "_view_count": null,
            "_view_module": "@jupyter-widgets/controls",
            "_view_module_version": "1.5.0",
            "_view_name": "HBoxView",
            "box_style": "",
            "children": [
              "IPY_MODEL_15302778068f4bda8341e685bbe8a9d7",
              "IPY_MODEL_1a8cd45a08e44b0693dcf67f078f7ae8",
              "IPY_MODEL_0400be4620bd4f958edfd420ced344bf"
            ],
            "layout": "IPY_MODEL_0fd76cd552a946d58311b5e5bcec2fd3"
          }
        },
        "15302778068f4bda8341e685bbe8a9d7": {
          "model_module": "@jupyter-widgets/controls",
          "model_name": "HTMLModel",
          "model_module_version": "1.5.0",
          "state": {
            "_dom_classes": [],
            "_model_module": "@jupyter-widgets/controls",
            "_model_module_version": "1.5.0",
            "_model_name": "HTMLModel",
            "_view_count": null,
            "_view_module": "@jupyter-widgets/controls",
            "_view_module_version": "1.5.0",
            "_view_name": "HTMLView",
            "description": "",
            "description_tooltip": null,
            "layout": "IPY_MODEL_1a14faaf626e4814b169b8239e524695",
            "placeholder": "​",
            "style": "IPY_MODEL_7d7e9f59ee20428e96ce41fb94daf857",
            "value": "100%"
          }
        },
        "1a8cd45a08e44b0693dcf67f078f7ae8": {
          "model_module": "@jupyter-widgets/controls",
          "model_name": "FloatProgressModel",
          "model_module_version": "1.5.0",
          "state": {
            "_dom_classes": [],
            "_model_module": "@jupyter-widgets/controls",
            "_model_module_version": "1.5.0",
            "_model_name": "FloatProgressModel",
            "_view_count": null,
            "_view_module": "@jupyter-widgets/controls",
            "_view_module_version": "1.5.0",
            "_view_name": "ProgressView",
            "bar_style": "success",
            "description": "",
            "description_tooltip": null,
            "layout": "IPY_MODEL_a36311e911b04684af572a0533c553a7",
            "max": 120,
            "min": 0,
            "orientation": "horizontal",
            "style": "IPY_MODEL_a3a4ecbced084203aa2d9a66cca16c21",
            "value": 120
          }
        },
        "0400be4620bd4f958edfd420ced344bf": {
          "model_module": "@jupyter-widgets/controls",
          "model_name": "HTMLModel",
          "model_module_version": "1.5.0",
          "state": {
            "_dom_classes": [],
            "_model_module": "@jupyter-widgets/controls",
            "_model_module_version": "1.5.0",
            "_model_name": "HTMLModel",
            "_view_count": null,
            "_view_module": "@jupyter-widgets/controls",
            "_view_module_version": "1.5.0",
            "_view_name": "HTMLView",
            "description": "",
            "description_tooltip": null,
            "layout": "IPY_MODEL_4e86bba5d8024ee8857d392a3ffef3f9",
            "placeholder": "​",
            "style": "IPY_MODEL_e36f1b712af6425d9ee760f92ecae5ca",
            "value": " 120/120 [00:16&lt;00:00,  8.31it/s]"
          }
        },
        "0fd76cd552a946d58311b5e5bcec2fd3": {
          "model_module": "@jupyter-widgets/base",
          "model_name": "LayoutModel",
          "model_module_version": "1.2.0",
          "state": {
            "_model_module": "@jupyter-widgets/base",
            "_model_module_version": "1.2.0",
            "_model_name": "LayoutModel",
            "_view_count": null,
            "_view_module": "@jupyter-widgets/base",
            "_view_module_version": "1.2.0",
            "_view_name": "LayoutView",
            "align_content": null,
            "align_items": null,
            "align_self": null,
            "border": null,
            "bottom": null,
            "display": null,
            "flex": null,
            "flex_flow": null,
            "grid_area": null,
            "grid_auto_columns": null,
            "grid_auto_flow": null,
            "grid_auto_rows": null,
            "grid_column": null,
            "grid_gap": null,
            "grid_row": null,
            "grid_template_areas": null,
            "grid_template_columns": null,
            "grid_template_rows": null,
            "height": null,
            "justify_content": null,
            "justify_items": null,
            "left": null,
            "margin": null,
            "max_height": null,
            "max_width": null,
            "min_height": null,
            "min_width": null,
            "object_fit": null,
            "object_position": null,
            "order": null,
            "overflow": null,
            "overflow_x": null,
            "overflow_y": null,
            "padding": null,
            "right": null,
            "top": null,
            "visibility": null,
            "width": null
          }
        },
        "1a14faaf626e4814b169b8239e524695": {
          "model_module": "@jupyter-widgets/base",
          "model_name": "LayoutModel",
          "model_module_version": "1.2.0",
          "state": {
            "_model_module": "@jupyter-widgets/base",
            "_model_module_version": "1.2.0",
            "_model_name": "LayoutModel",
            "_view_count": null,
            "_view_module": "@jupyter-widgets/base",
            "_view_module_version": "1.2.0",
            "_view_name": "LayoutView",
            "align_content": null,
            "align_items": null,
            "align_self": null,
            "border": null,
            "bottom": null,
            "display": null,
            "flex": null,
            "flex_flow": null,
            "grid_area": null,
            "grid_auto_columns": null,
            "grid_auto_flow": null,
            "grid_auto_rows": null,
            "grid_column": null,
            "grid_gap": null,
            "grid_row": null,
            "grid_template_areas": null,
            "grid_template_columns": null,
            "grid_template_rows": null,
            "height": null,
            "justify_content": null,
            "justify_items": null,
            "left": null,
            "margin": null,
            "max_height": null,
            "max_width": null,
            "min_height": null,
            "min_width": null,
            "object_fit": null,
            "object_position": null,
            "order": null,
            "overflow": null,
            "overflow_x": null,
            "overflow_y": null,
            "padding": null,
            "right": null,
            "top": null,
            "visibility": null,
            "width": null
          }
        },
        "7d7e9f59ee20428e96ce41fb94daf857": {
          "model_module": "@jupyter-widgets/controls",
          "model_name": "DescriptionStyleModel",
          "model_module_version": "1.5.0",
          "state": {
            "_model_module": "@jupyter-widgets/controls",
            "_model_module_version": "1.5.0",
            "_model_name": "DescriptionStyleModel",
            "_view_count": null,
            "_view_module": "@jupyter-widgets/base",
            "_view_module_version": "1.2.0",
            "_view_name": "StyleView",
            "description_width": ""
          }
        },
        "a36311e911b04684af572a0533c553a7": {
          "model_module": "@jupyter-widgets/base",
          "model_name": "LayoutModel",
          "model_module_version": "1.2.0",
          "state": {
            "_model_module": "@jupyter-widgets/base",
            "_model_module_version": "1.2.0",
            "_model_name": "LayoutModel",
            "_view_count": null,
            "_view_module": "@jupyter-widgets/base",
            "_view_module_version": "1.2.0",
            "_view_name": "LayoutView",
            "align_content": null,
            "align_items": null,
            "align_self": null,
            "border": null,
            "bottom": null,
            "display": null,
            "flex": null,
            "flex_flow": null,
            "grid_area": null,
            "grid_auto_columns": null,
            "grid_auto_flow": null,
            "grid_auto_rows": null,
            "grid_column": null,
            "grid_gap": null,
            "grid_row": null,
            "grid_template_areas": null,
            "grid_template_columns": null,
            "grid_template_rows": null,
            "height": null,
            "justify_content": null,
            "justify_items": null,
            "left": null,
            "margin": null,
            "max_height": null,
            "max_width": null,
            "min_height": null,
            "min_width": null,
            "object_fit": null,
            "object_position": null,
            "order": null,
            "overflow": null,
            "overflow_x": null,
            "overflow_y": null,
            "padding": null,
            "right": null,
            "top": null,
            "visibility": null,
            "width": null
          }
        },
        "a3a4ecbced084203aa2d9a66cca16c21": {
          "model_module": "@jupyter-widgets/controls",
          "model_name": "ProgressStyleModel",
          "model_module_version": "1.5.0",
          "state": {
            "_model_module": "@jupyter-widgets/controls",
            "_model_module_version": "1.5.0",
            "_model_name": "ProgressStyleModel",
            "_view_count": null,
            "_view_module": "@jupyter-widgets/base",
            "_view_module_version": "1.2.0",
            "_view_name": "StyleView",
            "bar_color": null,
            "description_width": ""
          }
        },
        "4e86bba5d8024ee8857d392a3ffef3f9": {
          "model_module": "@jupyter-widgets/base",
          "model_name": "LayoutModel",
          "model_module_version": "1.2.0",
          "state": {
            "_model_module": "@jupyter-widgets/base",
            "_model_module_version": "1.2.0",
            "_model_name": "LayoutModel",
            "_view_count": null,
            "_view_module": "@jupyter-widgets/base",
            "_view_module_version": "1.2.0",
            "_view_name": "LayoutView",
            "align_content": null,
            "align_items": null,
            "align_self": null,
            "border": null,
            "bottom": null,
            "display": null,
            "flex": null,
            "flex_flow": null,
            "grid_area": null,
            "grid_auto_columns": null,
            "grid_auto_flow": null,
            "grid_auto_rows": null,
            "grid_column": null,
            "grid_gap": null,
            "grid_row": null,
            "grid_template_areas": null,
            "grid_template_columns": null,
            "grid_template_rows": null,
            "height": null,
            "justify_content": null,
            "justify_items": null,
            "left": null,
            "margin": null,
            "max_height": null,
            "max_width": null,
            "min_height": null,
            "min_width": null,
            "object_fit": null,
            "object_position": null,
            "order": null,
            "overflow": null,
            "overflow_x": null,
            "overflow_y": null,
            "padding": null,
            "right": null,
            "top": null,
            "visibility": null,
            "width": null
          }
        },
        "e36f1b712af6425d9ee760f92ecae5ca": {
          "model_module": "@jupyter-widgets/controls",
          "model_name": "DescriptionStyleModel",
          "model_module_version": "1.5.0",
          "state": {
            "_model_module": "@jupyter-widgets/controls",
            "_model_module_version": "1.5.0",
            "_model_name": "DescriptionStyleModel",
            "_view_count": null,
            "_view_module": "@jupyter-widgets/base",
            "_view_module_version": "1.2.0",
            "_view_name": "StyleView",
            "description_width": ""
          }
        }
      }
    }
  },
  "cells": [
    {
      "cell_type": "markdown",
      "source": [
        "# EJERCICIO E04"
      ],
      "metadata": {
        "id": "hoEJCqJqefxv"
      }
    },
    {
      "cell_type": "markdown",
      "metadata": {
        "id": "ldHBGHWGon-Y"
      },
      "source": [
        "# Reconocimiento de Patrones\n",
        "[Curso de Reconocimiento de Patrones](https://https://domingomery.ing.puc.cl/teaching/patrones/)\n",
        "\n",
        "Departamento de Ciencia de la Computación\n",
        "\n",
        "Universidad Catolica de Chile\n",
        "\n",
        "(c) Domingo Mery, http://domingomery.ing.uc.cl\n",
        "\n"
      ]
    },
    {
      "cell_type": "markdown",
      "metadata": {
        "id": "zpYuhv665afE"
      },
      "source": [
        "# IMPORTANTE\n",
        "\n",
        "En este código por favor:\n",
        "\n",
        "*   No agregar celdas nuevas\n",
        "*   No agregar librerías nuevas\n",
        "*   No usar otro nombre de variables\n",
        "*   No cambiar el clasificador ni el número de vecinos del KNN\n",
        "*   No hacer gráficas adicionales\n",
        "\n",
        "\n",
        "<font color='red'>Esta tarea será corregida de manera rápida en base al resultado: resultado correcto o incorrecto.</font>\n",
        "\n",
        "Si quieres hacer modificaciones y probar estrategias distintas, te invito a hacerlo en otro código (no en éste), ya que <font color='red'>este código debe modificarse sólo en los lugares indicados.</font>\n"
      ]
    },
    {
      "cell_type": "markdown",
      "metadata": {
        "id": "XASTjivuu7cO"
      },
      "source": [
        "# Ejercicio 04: Detección de Caras usando Características de Textura\n",
        "\n",
        "En este ejercicio se realizará la clasificación entre dos clases ([ver base de datos](https://www.dropbox.com/sh/tlnx9sy03kexahb/AADm9-Md1Vg1ZfVpwofZZW3Ta)):\n",
        "\n",
        "* Clase 0: Caras (contiene fotos tomadas de caras frontales y bien alineadas)\n",
        "\n",
        "* Clase 1: No-caras (contiene fotos de objetos que no son caras, por ejemplo sillas, mesas, plantas, etc.)\n",
        "\n",
        "La base de datos contiene 240 imágenes de 80x80 pixeles en tonos de gris (120 imágenes por clase).\n",
        "\n",
        "**ADVERTENCIA:** Este ejercicio tiene fines pedagógicos sólamente con la idea de que la solución a este problema pueda ejecutarse en un par de minutos. Un buen detector de caras sigue esta idea pero con miles de imágenes por clase.\n",
        "\n",
        "A continuación, en cada PREGUNTA deberás ingresar alguna(s) líneas de código, o completar donde aparezca '<= COMPLETAR AQUI\".\n",
        "\n",
        "<font color='red'>Muchas de estas funciones fueron usadas en el Colab del ejemplo de texturas visto en la clase anterior. Antes de hacer este ejercicio deberías entender bien cómo funciona este ejemplo: </font>[Colab de Texturas](https://drive.google.com/file/d/1Xwr4fcZ4JtaDWVQYSFMW2aqxfV36zCwo/view?usp=sharing)\n",
        "\n",
        "\n",
        "\n",
        "\n"
      ]
    },
    {
      "cell_type": "markdown",
      "metadata": {
        "id": "R5C53BYjpNl7"
      },
      "source": [
        "# Setup inicial\n",
        "\n",
        "Liberías y funciones necesarias para que funcione el algoritmo."
      ]
    },
    {
      "cell_type": "markdown",
      "metadata": {
        "id": "x-r9zRXMdBOM"
      },
      "source": [
        "## Instalación de Balu3\n",
        "\n",
        "[Balu3](https://github.com/domingomery/balu3) es una librería creada para extraer características. "
      ]
    },
    {
      "cell_type": "code",
      "metadata": {
        "id": "XX-Xb2Igk2jQ",
        "outputId": "96ad4ed2-2896-423d-b8b2-9a4d1cc54d31",
        "colab": {
          "base_uri": "https://localhost:8080/"
        }
      },
      "source": [
        "#\n",
        "# EJECUTAR ESTA CELDA SIN MODIFICARLA\n",
        "#\n",
        "\n",
        "!git clone https://github.com/domingomery/balu3\n",
        "!pip install ./balu3"
      ],
      "execution_count": 1,
      "outputs": [
        {
          "output_type": "stream",
          "name": "stdout",
          "text": [
            "Cloning into 'balu3'...\n",
            "remote: Enumerating objects: 214, done.\u001b[K\n",
            "remote: Counting objects: 100% (214/214), done.\u001b[K\n",
            "remote: Compressing objects: 100% (153/153), done.\u001b[K\n",
            "remote: Total 214 (delta 128), reused 137 (delta 57), pack-reused 0\u001b[K\n",
            "Receiving objects: 100% (214/214), 63.32 KiB | 9.04 MiB/s, done.\n",
            "Resolving deltas: 100% (128/128), done.\n",
            "Looking in indexes: https://pypi.org/simple, https://us-python.pkg.dev/colab-wheels/public/simple/\n",
            "Processing ./balu3\n",
            "  Preparing metadata (setup.py) ... \u001b[?25l\u001b[?25hdone\n",
            "Building wheels for collected packages: balu3\n",
            "  Building wheel for balu3 (setup.py) ... \u001b[?25l\u001b[?25hdone\n",
            "  Created wheel for balu3: filename=balu3-1.0-py3-none-any.whl size=42780 sha256=02aa07e61b82c89070993c57ef5a17c29a17bbd6b4ba5b570c028bcd2e8b0b5a\n",
            "  Stored in directory: /tmp/pip-ephem-wheel-cache-vrdu3fl6/wheels/16/25/1e/631c042e986997d66481af1f42bd9a1f0937c379ca8d6f32fb\n",
            "Successfully built balu3\n",
            "Installing collected packages: balu3\n",
            "Successfully installed balu3-1.0\n"
          ]
        }
      ]
    },
    {
      "cell_type": "markdown",
      "metadata": {
        "id": "X9daVUmmTSBW"
      },
      "source": [
        "## Setup de librerías\n",
        "\n"
      ]
    },
    {
      "cell_type": "code",
      "metadata": {
        "id": "xUXeMCxoTRH8",
        "outputId": "6b1c3306-7c64-4496-e475-cb518c42fac7",
        "colab": {
          "base_uri": "https://localhost:8080/"
        }
      },
      "source": [
        "#\n",
        "# EJECUTAR ESTA CELDA SIN MODIFICARLA\n",
        "#\n",
        "\n",
        "import numpy             as     np\n",
        "import matplotlib.pyplot as     plt\n",
        "from   sklearn.metrics   import confusion_matrix, accuracy_score\n",
        "from   sklearn.neighbors import KNeighborsClassifier\n",
        "from   seaborn           import heatmap\n",
        "from   tqdm.auto         import tqdm\n",
        "from   balu3.fx.chr      import lbp, haralick, gabor\n",
        "from   balu3.ft.norm     import minmax\n",
        "from   balu3.io.misc     import imageload\n",
        "\n",
        "print('Librerías cargadas.')\n"
      ],
      "execution_count": 2,
      "outputs": [
        {
          "output_type": "stream",
          "name": "stdout",
          "text": [
            "Librerías cargadas.\n"
          ]
        }
      ]
    },
    {
      "cell_type": "markdown",
      "metadata": {
        "id": "dYCCyCrTYVYQ"
      },
      "source": [
        "## Funciones necesarias"
      ]
    },
    {
      "cell_type": "code",
      "metadata": {
        "id": "V7PwerxH4rxx"
      },
      "source": [
        "#\n",
        "# EJECUTAR ESTA CELDA SIN MODIFICARLA\n",
        "#\n",
        "\n",
        "# Separación entre training y testing\n",
        "def SplitTrainTest(X,y,n):\n",
        "\n",
        "  K      = np.max(y)+1              # número de clases\n",
        "  N      = int(X.shape[0]/K)        # numeros de muestras por clase\n",
        "  Ntrain = n*K                      # número de muestras para el training\n",
        "  Ntest  = K*N-Ntrain               # número de muestras para el testing\n",
        "  M      = X.shape[1]               # número de características por muestra\n",
        "  Xtrain = np.zeros((Ntrain,M))     # subset de training\n",
        "  ytrain = np.zeros((Ntrain),'int') # ground truth del training         \n",
        "  Xtest  = np.zeros((Ntest,M))      # subset de testing\n",
        "  ytest  = np.zeros((Ntest),'int')  # ground truth del testing  \n",
        "\n",
        "  # contadores\n",
        "  itrain = 0\n",
        "  itest  = 0\n",
        "  t      = 0\n",
        "\n",
        "  for j in range(K):     # para cada clase\n",
        "    for i in range(N):   # para cada imagen de la clase\n",
        "      if i<n: # training\n",
        "        Xtrain[itrain,:] = X[t,:]\n",
        "        ytrain[itrain] = y[t]\n",
        "        itrain = itrain+1\n",
        "      else:  # testing\n",
        "        Xtest[itest,:] = X[t,:]\n",
        "        ytest[itest] = y[t]\n",
        "        itest = itest+1\n",
        "      t = t+1\n",
        "  \n",
        "  return Xtrain,ytrain,Xtest,ytest\n",
        "\n",
        "# Clasificación usando KNN con 3 vecinos\n",
        "def ClassifierKNN(Xtrain,ytrain,Xtest,ytest):\n",
        "  # Normalizacion MinMax\n",
        "  Xtrain, a, b = minmax(Xtrain)\n",
        "  Xtest        = Xtest * a + b\n",
        "\n",
        "  # Training\n",
        "  knn = KNeighborsClassifier(n_neighbors=3)\n",
        "  knn.fit(Xtrain, ytrain)\n",
        "\n",
        "  # Testing\n",
        "  ypred        = knn.predict(Xtest)\n",
        "\n",
        "  # Evaluacion desempeño\n",
        "  acc          = accuracy_score(ytest,ypred)\n",
        "  print('Entrenando con '+str(Xtrain.shape[0])+' muestras y probando con '+str(Xtest.shape[0])+' muestras')\n",
        "  print('Testing Accuracy = '+str(acc*100)+'%')\n",
        "  C = confusion_matrix(ytest,ypred)\n",
        "  print('Matriz de Confusión:')\n",
        "  print(C)\n",
        "  return acc,C"
      ],
      "execution_count": 3,
      "outputs": []
    },
    {
      "cell_type": "markdown",
      "metadata": {
        "id": "sOcwbiQYYPag"
      },
      "source": [
        "# PREGUNTA 01: Carga de base de datos (1 punto)\n",
        "\n",
        "La base de datos consiste en 2 clases y 120 imágenes por clase. Se almacenan en la carpeta `facedetection` con el formato `face_xx_nnn.png`, donde `xx` es el número de la clase (01 para caras, 02 para no caras -en formato de dos dígitos-) y `nnn` es el número de la imagen de la clase (001, 002, ... 120 -en formato de tres dígitos-). Las fotos son de 80x80 pixeles.\n",
        "\n",
        "Para cargar la base de datos realice los siguientes pasos:\n",
        "\n",
        "* Descargue la base de datos comprimida que está en: `https://www.dropbox.com/s/9hrkdtswct2s8fe/facedetection.zip`\n",
        "\n",
        "* Descomprima el archivo descargado"
      ]
    },
    {
      "cell_type": "code",
      "metadata": {
        "id": "BMYOlpLpzHQJ",
        "outputId": "83ebc919-75a8-41bc-9d8e-74f372c2a0f8",
        "colab": {
          "base_uri": "https://localhost:8080/"
        }
      },
      "source": [
        "# Carga de base de datos\n",
        "!wget https://www.dropbox.com/s/9hrkdtswct2s8fe/facedetection.zip\n",
        "!unzip -qq facedetection.zip\n",
        "\n",
        "print('Base de datos cargada.')"
      ],
      "execution_count": 4,
      "outputs": [
        {
          "output_type": "stream",
          "name": "stdout",
          "text": [
            "--2023-04-04 16:22:46--  https://www.dropbox.com/s/9hrkdtswct2s8fe/facedetection.zip\n",
            "Resolving www.dropbox.com (www.dropbox.com)... 162.125.6.18, 2620:100:601c:18::a27d:612\n",
            "Connecting to www.dropbox.com (www.dropbox.com)|162.125.6.18|:443... connected.\n",
            "HTTP request sent, awaiting response... 302 Found\n",
            "Location: /s/raw/9hrkdtswct2s8fe/facedetection.zip [following]\n",
            "--2023-04-04 16:22:47--  https://www.dropbox.com/s/raw/9hrkdtswct2s8fe/facedetection.zip\n",
            "Reusing existing connection to www.dropbox.com:443.\n",
            "HTTP request sent, awaiting response... 302 Found\n",
            "Location: https://uc9b735fd65fa8ab9903c011a4f8.dl.dropboxusercontent.com/cd/0/inline/B5jtlzNFlRF5YzIFQmgSHG5kiAgyrswljVrt6LSUutwm_f7BzEe4TwL3Yehy9YLCZIF-P_5XITtrN7meAjnwMvTTupfOhlEwbXaBl1Z2iH5T1ViDkwL3IYcvw1X6CvmVxA_mMNNYZnS3aB-6nnR9QnMbadzXdQF7uEKmWufPP0iCKA/file# [following]\n",
            "--2023-04-04 16:22:47--  https://uc9b735fd65fa8ab9903c011a4f8.dl.dropboxusercontent.com/cd/0/inline/B5jtlzNFlRF5YzIFQmgSHG5kiAgyrswljVrt6LSUutwm_f7BzEe4TwL3Yehy9YLCZIF-P_5XITtrN7meAjnwMvTTupfOhlEwbXaBl1Z2iH5T1ViDkwL3IYcvw1X6CvmVxA_mMNNYZnS3aB-6nnR9QnMbadzXdQF7uEKmWufPP0iCKA/file\n",
            "Resolving uc9b735fd65fa8ab9903c011a4f8.dl.dropboxusercontent.com (uc9b735fd65fa8ab9903c011a4f8.dl.dropboxusercontent.com)... 162.125.6.15, 2620:100:601c:15::a27d:60f\n",
            "Connecting to uc9b735fd65fa8ab9903c011a4f8.dl.dropboxusercontent.com (uc9b735fd65fa8ab9903c011a4f8.dl.dropboxusercontent.com)|162.125.6.15|:443... connected.\n",
            "HTTP request sent, awaiting response... 302 Found\n",
            "Location: /cd/0/inline2/B5gjdWfFzlUFSB_MmjBjSFGVixvZmyCdvkvDnkx8uBVPgrnohTq0Pk5_v6GLzTd2rTOZlHIZC01rt5p5EwtzLofs58a4NQ2FJPoYTk_8wADeXgwkz84z6448_ssq3lt6jshP7Y4dljj_6UGRdMP3CeaoI3nDhuOlJNNjnly3SoV6PO_-UN_nCDmddSZ8KOAx2mEObSNIJVQ2SkiKjZ_5HMWNYeRWN2CzR8GJQXNnIJbS-mAw2ZQdBjMcvyvLOT7phcV8cysQAcaTPEzheFpJnuInvdPiCg-fghYODLjWZnx4y5QOjp_vi4fQBPwxupm3OFTYnXHkN_dJcfrmdurxw1g5NhdOTb2BmEXt3jvN545bpO08O0X1ujF6g9-8V1QCWx4PYTyE3h319oWp9IWm00IKZiAaV9_YMb2GBxMjahBBaA/file [following]\n",
            "--2023-04-04 16:22:47--  https://uc9b735fd65fa8ab9903c011a4f8.dl.dropboxusercontent.com/cd/0/inline2/B5gjdWfFzlUFSB_MmjBjSFGVixvZmyCdvkvDnkx8uBVPgrnohTq0Pk5_v6GLzTd2rTOZlHIZC01rt5p5EwtzLofs58a4NQ2FJPoYTk_8wADeXgwkz84z6448_ssq3lt6jshP7Y4dljj_6UGRdMP3CeaoI3nDhuOlJNNjnly3SoV6PO_-UN_nCDmddSZ8KOAx2mEObSNIJVQ2SkiKjZ_5HMWNYeRWN2CzR8GJQXNnIJbS-mAw2ZQdBjMcvyvLOT7phcV8cysQAcaTPEzheFpJnuInvdPiCg-fghYODLjWZnx4y5QOjp_vi4fQBPwxupm3OFTYnXHkN_dJcfrmdurxw1g5NhdOTb2BmEXt3jvN545bpO08O0X1ujF6g9-8V1QCWx4PYTyE3h319oWp9IWm00IKZiAaV9_YMb2GBxMjahBBaA/file\n",
            "Reusing existing connection to uc9b735fd65fa8ab9903c011a4f8.dl.dropboxusercontent.com:443.\n",
            "HTTP request sent, awaiting response... 200 OK\n",
            "Length: 1053080 (1.0M) [application/zip]\n",
            "Saving to: ‘facedetection.zip’\n",
            "\n",
            "facedetection.zip   100%[===================>]   1.00M  --.-KB/s    in 0.01s   \n",
            "\n",
            "2023-04-04 16:22:48 (88.4 MB/s) - ‘facedetection.zip’ saved [1053080/1053080]\n",
            "\n",
            "Base de datos cargada.\n"
          ]
        }
      ]
    },
    {
      "cell_type": "markdown",
      "source": [
        "# PREGUNTA 2: Lectura y despliegue de una imagen (2 puntos)\n",
        "\n",
        "Usando la función `imageload` lea y despliegue la imagen `face_01_015.png' (imagen 15 de la clase 1).\n",
        "\n",
        "Para usar la función `imageload` use la siguiente sintaxis:\n",
        "\n",
        "`img = 255*imageload(imprefix,clase,dig_clase,num_img,dig_img,echo='on')` donde:\n",
        "\n",
        "* `imprefix  = fpath + '/' + prefix`\n",
        "\n",
        "* `fpath` : nombre del directorio de la base de datos\n",
        "\n",
        "* `prefix` : prefijo del nombre del archivo de la imagen\n",
        "\n",
        "* `clase`   : número de la clase\n",
        "\n",
        "* `dig_clase` : número de dígitos por clase\n",
        "\n",
        "* `num_img` : número de la imagen\n",
        "\n",
        "* `dig_img` : número de dígitos por número de imagen\n",
        "\n",
        "A manera de ejemplo si se quiere leer la imagen \"textura/D007_05.png\" se debe usar el siguiente código:\n",
        "\n",
        "`fpath = 'textura'`\n",
        "\n",
        "`prefix = 'D'`\n",
        "\n",
        "`imprefix  = fpath + '/' + prefix`\n",
        "\n",
        "`img = 255*imageload(imprefix,7,3,5,2,echo='on') # 007 tiene 3 dígitos, 05 tiene 2.`\n"
      ],
      "metadata": {
        "id": "0xJXuBpuldpm"
      }
    },
    {
      "cell_type": "code",
      "source": [
        "# Las imágenes están en \"facedetection/face_xx_nnn.png\", donde xxx es el número de la\n",
        "# clase (01 o bien 02 en dos dígitos por clase) y nnn es el número de la imagen\n",
        "# (001, 002, ... 120 en tres dígitos por número de imagen)\n",
        "clase     =      1\n",
        "dig_clase =      2\n",
        "num_img   =      15\n",
        "dig_img   =      3\n",
        "fpath      =     'facedetection'\n",
        "prefix     =     'face_'\n",
        "imprefix  = fpath + '/' + prefix\n",
        "\n",
        "imagen = 255*imageload(imprefix,clase,dig_clase,num_img,dig_img,echo='on')\n",
        "\n",
        "plt.imshow(imagen, cmap=\"gray\")\n",
        "plt.show()\n"
      ],
      "metadata": {
        "id": "LlTyGrbdljLM",
        "outputId": "3a42d234-0755-46d4-8ab6-9c1441d7373c",
        "colab": {
          "base_uri": "https://localhost:8080/",
          "height": 450
        }
      },
      "execution_count": 5,
      "outputs": [
        {
          "output_type": "stream",
          "name": "stdout",
          "text": [
            "loading image facedetection/face_01_015.png...\n"
          ]
        },
        {
          "output_type": "display_data",
          "data": {
            "text/plain": [
              "<Figure size 640x480 with 1 Axes>"
            ],
            "image/png": "[encoded data removed]"
          },
          "metadata": {}
        }
      ]
    },
    {
      "cell_type": "markdown",
      "metadata": {
        "id": "yYHxPwnTYhXs"
      },
      "source": [
        "# PREGUNTA 3: Extracción de características (7 puntos)\n",
        "\n",
        "En esta pregunta se debe realizar la extracción de características de la imagen `img`. Las características a extraer son las basadas en LBP, Haralick y Gabor y se extraen usando los siguientes comandos de la librería Balu3:\n",
        "\n",
        "## 1) Cómo extraer características LBP clásico:\n",
        "\n",
        "Con el comando\n",
        "\n",
        "`f  = def lbp(img,hdiv=a, vdiv=b, mapping='nri_uniform')`\n",
        "\n",
        "se divide la imagen `img` en `a x b` particiones y en cada una de ellas se extrae el descriptor LBP (vector de 59 elementos). En este caso `f` es un vector de `59*a*b` elementos. En este ejercicio trabajaremos con `a = b = 1`, es decir sólo una partición por imagen.\n",
        "\n",
        "## 2) Cómo extraer características de Haralick:\n",
        "\n",
        "Con el comando\n",
        "\n",
        "`f = def haralick(img,distance=d,)`\n",
        "\n",
        "se extrae el vector Haralick para una distancia de `d` pixeles. En este caso `f` es un vector de 24 elementos (independiente de la distancia `d`). En este ejercicio trabajaremos con `d = 3`.\n",
        "\n",
        "\n",
        "## 3) Cómo extraer características de Gabor:\n",
        "\n",
        "Con el comando\n",
        "`f = gabor(img,rotations=r, dilations=s)`\n",
        "\n",
        "se extrae el vector Gabor para `r` rotaciones y `s` escalas. En este caso `f` es un vector de `r*s+3` elementos. En este ejercicio trabajaremos con `r = s = 8`."
      ]
    },
    {
      "cell_type": "code",
      "metadata": {
        "id": "LMZBAlWG40Rz",
        "outputId": "ab622538-ddec-4cc6-b202-a0ea2ecffa9c",
        "colab": {
          "base_uri": "https://localhost:8080/",
          "height": 1000,
          "referenced_widgets": [
            "15473549cd4840078b47052003b280ae",
            "14d9153c2c444827bcf955e508523109",
            "c2d27333c147438caf439df259858647",
            "5bd7af62a5344294aeda214d84534ef1",
            "b1df04f3809e4fa5920e85181d488cea",
            "fad7041b7741455b85a602494ddb8911",
            "b9a2d7e148f74fe58fa3f444fd8e197e",
            "1fc87e600c3142a49f1ced88a7cb3064",
            "e909ae96e8e04fbd94574b1122696416",
            "a544ae4e27d34a2a97d1991aeaeb0423",
            "5b68ca5aceb44b5c9439f0d6b9d54f78",
            "1487e8b3b59747aa90a87f46de68ece8",
            "15302778068f4bda8341e685bbe8a9d7",
            "1a8cd45a08e44b0693dcf67f078f7ae8",
            "0400be4620bd4f958edfd420ced344bf",
            "0fd76cd552a946d58311b5e5bcec2fd3",
            "1a14faaf626e4814b169b8239e524695",
            "7d7e9f59ee20428e96ce41fb94daf857",
            "a36311e911b04684af572a0533c553a7",
            "a3a4ecbced084203aa2d9a66cca16c21",
            "4e86bba5d8024ee8857d392a3ffef3f9",
            "e36f1b712af6425d9ee760f92ecae5ca"
          ]
        }
      },
      "source": [
        "K    =    2\n",
        "N    =    120\n",
        "Mlbp =    59\n",
        "Mhar =    24\n",
        "Mgab =    8 * 8 + 3\n",
        "\n",
        "Xlbp  = np.zeros((K*N,Mlbp))    # K*N muestras (filas), y Mlbp características (columnas)\n",
        "Xhar  = np.zeros((K*N,Mhar))    # K*N muestras (filas), y Mhar características (columnas)\n",
        "Xgab  = np.zeros((K*N,Mgab))    # K*N muestras (filas), y Mgab características (columnas)\n",
        "\n",
        "y     = np.zeros((K*N),'int')   # ground truth (clasificacion ideal)\n",
        "\n",
        "t = 0\n",
        "\n",
        "print('Cargando imagenes y extrayendo características...')\n",
        "for j in range(K):            # para cada clase\n",
        "  print('Extrayendo características: batch '+str(j+1)+'/'+str(K))\n",
        "  for i in tqdm(range(N)):                # para cada imagen de la clase\n",
        "    # Lectura de la imagen\n",
        "    clase     = j+1\n",
        "    num_img   = i+1\n",
        "    img       = 255*imageload(imprefix,clase,dig_clase,num_img,dig_img,echo='on')\n",
        "\n",
        "    # Extracción de características\n",
        "\n",
        "    # LBP clásico de 1x1 particiones\n",
        "    Xlbp[t,:] = lbp(img,hdiv=1, vdiv=1, mapping='nri_uniform')\n",
        "\n",
        "    # Haralick con d = 3 pixeles\n",
        "    Xhar[t,:] = haralick(img,distance=3)\n",
        "\n",
        "    # Gabor con 8 rotaciones y 8 escalas\n",
        "    Xgab[t,:] = gabor(img,rotations=8, dilations=8)\n",
        "\n",
        "\n",
        "    y[t] = j # la muestra t pertenece a la clase j\n",
        "    t = t+1"
      ],
      "execution_count": 6,
      "outputs": [
        {
          "output_type": "stream",
          "name": "stdout",
          "text": [
            "Cargando imagenes y extrayendo características...\n",
            "Extrayendo características: batch 1/2\n"
          ]
        },
        {
          "output_type": "display_data",
          "data": {
            "text/plain": [
              "  0%|          | 0/120 [00:00<?, ?it/s]"
            ],
            "application/vnd.jupyter.widget-view+json": {
              "version_major": 2,
              "version_minor": 0,
              "model_id": "15473549cd4840078b47052003b280ae"
            }
          },
          "metadata": {}
        },
        {
          "output_type": "stream",
          "name": "stdout",
          "text": [
            "loading image facedetection/face_01_001.png...\n",
            "loading image facedetection/face_01_002.png...\n",
            "loading image facedetection/face_01_003.png...\n",
            "loading image facedetection/face_01_004.png...\n",
            "loading image facedetection/face_01_005.png...\n",
            "loading image facedetection/face_01_006.png...\n",
            "loading image facedetection/face_01_007.png...\n",
            "loading image facedetection/face_01_008.png...\n",
            "loading image facedetection/face_01_009.png...\n",
            "loading image facedetection/face_01_010.png...\n",
            "loading image facedetection/face_01_011.png...\n",
            "loading image facedetection/face_01_012.png...\n",
            "loading image facedetection/face_01_013.png...\n",
            "loading image facedetection/face_01_014.png...\n",
            "loading image facedetection/face_01_015.png...\n",
            "loading image facedetection/face_01_016.png...\n",
            "loading image facedetection/face_01_017.png...\n",
            "loading image facedetection/face_01_018.png...\n",
            "loading image facedetection/face_01_019.png...\n",
            "loading image facedetection/face_01_020.png...\n",
            "loading image facedetection/face_01_021.png...\n",
            "loading image facedetection/face_01_022.png...\n",
            "loading image facedetection/face_01_023.png...\n",
            "loading image facedetection/face_01_024.png...\n",
            "loading image facedetection/face_01_025.png...\n",
            "loading image facedetection/face_01_026.png...\n",
            "loading image facedetection/face_01_027.png...\n",
            "loading image facedetection/face_01_028.png...\n",
            "loading image facedetection/face_01_029.png...\n",
            "loading image facedetection/face_01_030.png...\n",
            "loading image facedetection/face_01_031.png...\n",
            "loading image facedetection/face_01_032.png...\n",
            "loading image facedetection/face_01_033.png...\n",
            "loading image facedetection/face_01_034.png...\n",
            "loading image facedetection/face_01_035.png...\n",
            "loading image facedetection/face_01_036.png...\n",
            "loading image facedetection/face_01_037.png...\n",
            "loading image facedetection/face_01_038.png...\n",
            "loading image facedetection/face_01_039.png...\n",
            "loading image facedetection/face_01_040.png...\n",
            "loading image facedetection/face_01_041.png...\n",
            "loading image facedetection/face_01_042.png...\n",
            "loading image facedetection/face_01_043.png...\n",
            "loading image facedetection/face_01_044.png...\n",
            "loading image facedetection/face_01_045.png...\n",
            "loading image facedetection/face_01_046.png...\n",
            "loading image facedetection/face_01_047.png...\n",
            "loading image facedetection/face_01_048.png...\n",
            "loading image facedetection/face_01_049.png...\n",
            "loading image facedetection/face_01_050.png...\n",
            "loading image facedetection/face_01_051.png...\n",
            "loading image facedetection/face_01_052.png...\n",
            "loading image facedetection/face_01_053.png...\n",
            "loading image facedetection/face_01_054.png...\n",
            "loading image facedetection/face_01_055.png...\n",
            "loading image facedetection/face_01_056.png...\n",
            "loading image facedetection/face_01_057.png...\n",
            "loading image facedetection/face_01_058.png...\n",
            "loading image facedetection/face_01_059.png...\n",
            "loading image facedetection/face_01_060.png...\n",
            "loading image facedetection/face_01_061.png...\n",
            "loading image facedetection/face_01_062.png...\n",
            "loading image facedetection/face_01_063.png...\n",
            "loading image facedetection/face_01_064.png...\n",
            "loading image facedetection/face_01_065.png...\n",
            "loading image facedetection/face_01_066.png...\n",
            "loading image facedetection/face_01_067.png...\n",
            "loading image facedetection/face_01_068.png...\n",
            "loading image facedetection/face_01_069.png...\n",
            "loading image facedetection/face_01_070.png...\n",
            "loading image facedetection/face_01_071.png...\n",
            "loading image facedetection/face_01_072.png...\n",
            "loading image facedetection/face_01_073.png...\n",
            "loading image facedetection/face_01_074.png...\n",
            "loading image facedetection/face_01_075.png...\n",
            "loading image facedetection/face_01_076.png...\n",
            "loading image facedetection/face_01_077.png...\n",
            "loading image facedetection/face_01_078.png...\n",
            "loading image facedetection/face_01_079.png...\n",
            "loading image facedetection/face_01_080.png...\n",
            "loading image facedetection/face_01_081.png...\n",
            "loading image facedetection/face_01_082.png...\n",
            "loading image facedetection/face_01_083.png...\n",
            "loading image facedetection/face_01_084.png...\n",
            "loading image facedetection/face_01_085.png...\n",
            "loading image facedetection/face_01_086.png...\n",
            "loading image facedetection/face_01_087.png...\n",
            "loading image facedetection/face_01_088.png...\n",
            "loading image facedetection/face_01_089.png...\n",
            "loading image facedetection/face_01_090.png...\n",
            "loading image facedetection/face_01_091.png...\n",
            "loading image facedetection/face_01_092.png...\n",
            "loading image facedetection/face_01_093.png...\n",
            "loading image facedetection/face_01_094.png...\n",
            "loading image facedetection/face_01_095.png...\n",
            "loading image facedetection/face_01_096.png...\n",
            "loading image facedetection/face_01_097.png...\n",
            "loading image facedetection/face_01_098.png...\n",
            "loading image facedetection/face_01_099.png...\n",
            "loading image facedetection/face_01_100.png...\n",
            "loading image facedetection/face_01_101.png...\n",
            "loading image facedetection/face_01_102.png...\n",
            "loading image facedetection/face_01_103.png...\n",
            "loading image facedetection/face_01_104.png...\n",
            "loading image facedetection/face_01_105.png...\n",
            "loading image facedetection/face_01_106.png...\n",
            "loading image facedetection/face_01_107.png...\n",
            "loading image facedetection/face_01_108.png...\n",
            "loading image facedetection/face_01_109.png...\n",
            "loading image facedetection/face_01_110.png...\n",
            "loading image facedetection/face_01_111.png...\n",
            "loading image facedetection/face_01_112.png...\n",
            "loading image facedetection/face_01_113.png...\n",
            "loading image facedetection/face_01_114.png...\n",
            "loading image facedetection/face_01_115.png...\n",
            "loading image facedetection/face_01_116.png...\n",
            "loading image facedetection/face_01_117.png...\n",
            "loading image facedetection/face_01_118.png...\n",
            "loading image facedetection/face_01_119.png...\n",
            "loading image facedetection/face_01_120.png...\n",
            "Extrayendo características: batch 2/2\n"
          ]
        },
        {
          "output_type": "display_data",
          "data": {
            "text/plain": [
              "  0%|          | 0/120 [00:00<?, ?it/s]"
            ],
            "application/vnd.jupyter.widget-view+json": {
              "version_major": 2,
              "version_minor": 0,
              "model_id": "1487e8b3b59747aa90a87f46de68ece8"
            }
          },
          "metadata": {}
        },
        {
          "output_type": "stream",
          "name": "stdout",
          "text": [
            "loading image facedetection/face_02_001.png...\n",
            "loading image facedetection/face_02_002.png...\n",
            "loading image facedetection/face_02_003.png...\n",
            "loading image facedetection/face_02_004.png...\n",
            "loading image facedetection/face_02_005.png...\n",
            "loading image facedetection/face_02_006.png...\n",
            "loading image facedetection/face_02_007.png...\n",
            "loading image facedetection/face_02_008.png...\n",
            "loading image facedetection/face_02_009.png...\n",
            "loading image facedetection/face_02_010.png...\n",
            "loading image facedetection/face_02_011.png...\n",
            "loading image facedetection/face_02_012.png...\n",
            "loading image facedetection/face_02_013.png...\n",
            "loading image facedetection/face_02_014.png...\n",
            "loading image facedetection/face_02_015.png...\n",
            "loading image facedetection/face_02_016.png...\n",
            "loading image facedetection/face_02_017.png...\n",
            "loading image facedetection/face_02_018.png...\n",
            "loading image facedetection/face_02_019.png...\n",
            "loading image facedetection/face_02_020.png...\n",
            "loading image facedetection/face_02_021.png...\n",
            "loading image facedetection/face_02_022.png...\n",
            "loading image facedetection/face_02_023.png...\n",
            "loading image facedetection/face_02_024.png...\n",
            "loading image facedetection/face_02_025.png...\n",
            "loading image facedetection/face_02_026.png...\n",
            "loading image facedetection/face_02_027.png...\n",
            "loading image facedetection/face_02_028.png...\n",
            "loading image facedetection/face_02_029.png...\n",
            "loading image facedetection/face_02_030.png...\n",
            "loading image facedetection/face_02_031.png...\n",
            "loading image facedetection/face_02_032.png...\n",
            "loading image facedetection/face_02_033.png...\n",
            "loading image facedetection/face_02_034.png...\n",
            "loading image facedetection/face_02_035.png...\n",
            "loading image facedetection/face_02_036.png...\n",
            "loading image facedetection/face_02_037.png...\n",
            "loading image facedetection/face_02_038.png...\n",
            "loading image facedetection/face_02_039.png...\n",
            "loading image facedetection/face_02_040.png...\n",
            "loading image facedetection/face_02_041.png...\n",
            "loading image facedetection/face_02_042.png...\n",
            "loading image facedetection/face_02_043.png...\n",
            "loading image facedetection/face_02_044.png...\n",
            "loading image facedetection/face_02_045.png...\n",
            "loading image facedetection/face_02_046.png...\n",
            "loading image facedetection/face_02_047.png...\n",
            "loading image facedetection/face_02_048.png...\n",
            "loading image facedetection/face_02_049.png...\n",
            "loading image facedetection/face_02_050.png...\n",
            "loading image facedetection/face_02_051.png...\n",
            "loading image facedetection/face_02_052.png...\n",
            "loading image facedetection/face_02_053.png...\n",
            "loading image facedetection/face_02_054.png...\n",
            "loading image facedetection/face_02_055.png...\n",
            "loading image facedetection/face_02_056.png...\n",
            "loading image facedetection/face_02_057.png...\n",
            "loading image facedetection/face_02_058.png...\n",
            "loading image facedetection/face_02_059.png...\n",
            "loading image facedetection/face_02_060.png...\n",
            "loading image facedetection/face_02_061.png...\n",
            "loading image facedetection/face_02_062.png...\n",
            "loading image facedetection/face_02_063.png...\n",
            "loading image facedetection/face_02_064.png...\n",
            "loading image facedetection/face_02_065.png...\n",
            "loading image facedetection/face_02_066.png...\n",
            "loading image facedetection/face_02_067.png...\n",
            "loading image facedetection/face_02_068.png...\n",
            "loading image facedetection/face_02_069.png...\n",
            "loading image facedetection/face_02_070.png...\n",
            "loading image facedetection/face_02_071.png...\n",
            "loading image facedetection/face_02_072.png...\n",
            "loading image facedetection/face_02_073.png...\n",
            "loading image facedetection/face_02_074.png...\n",
            "loading image facedetection/face_02_075.png...\n",
            "loading image facedetection/face_02_076.png...\n",
            "loading image facedetection/face_02_077.png...\n",
            "loading image facedetection/face_02_078.png...\n",
            "loading image facedetection/face_02_079.png...\n",
            "loading image facedetection/face_02_080.png...\n",
            "loading image facedetection/face_02_081.png...\n",
            "loading image facedetection/face_02_082.png...\n",
            "loading image facedetection/face_02_083.png...\n",
            "loading image facedetection/face_02_084.png...\n",
            "loading image facedetection/face_02_085.png...\n",
            "loading image facedetection/face_02_086.png...\n",
            "loading image facedetection/face_02_087.png...\n",
            "loading image facedetection/face_02_088.png...\n",
            "loading image facedetection/face_02_089.png...\n",
            "loading image facedetection/face_02_090.png...\n",
            "loading image facedetection/face_02_091.png...\n",
            "loading image facedetection/face_02_092.png...\n",
            "loading image facedetection/face_02_093.png...\n",
            "loading image facedetection/face_02_094.png...\n",
            "loading image facedetection/face_02_095.png...\n",
            "loading image facedetection/face_02_096.png...\n",
            "loading image facedetection/face_02_097.png...\n",
            "loading image facedetection/face_02_098.png...\n",
            "loading image facedetection/face_02_099.png...\n",
            "loading image facedetection/face_02_100.png...\n",
            "loading image facedetection/face_02_101.png...\n",
            "loading image facedetection/face_02_102.png...\n",
            "loading image facedetection/face_02_103.png...\n",
            "loading image facedetection/face_02_104.png...\n",
            "loading image facedetection/face_02_105.png...\n",
            "loading image facedetection/face_02_106.png...\n",
            "loading image facedetection/face_02_107.png...\n",
            "loading image facedetection/face_02_108.png...\n",
            "loading image facedetection/face_02_109.png...\n",
            "loading image facedetection/face_02_110.png...\n",
            "loading image facedetection/face_02_111.png...\n",
            "loading image facedetection/face_02_112.png...\n",
            "loading image facedetection/face_02_113.png...\n",
            "loading image facedetection/face_02_114.png...\n",
            "loading image facedetection/face_02_115.png...\n",
            "loading image facedetection/face_02_116.png...\n",
            "loading image facedetection/face_02_117.png...\n",
            "loading image facedetection/face_02_118.png...\n",
            "loading image facedetection/face_02_119.png...\n",
            "loading image facedetection/face_02_120.png...\n"
          ]
        }
      ]
    },
    {
      "cell_type": "markdown",
      "metadata": {
        "id": "J88eVidHdI6P"
      },
      "source": [
        "# PREGUNTA 4: Clasificación usando LBP (2 puntos)\n",
        "\n",
        "En la pregunta anterior, fueron extraídas las características LBP, Haralick y Gabor para todas las imágenes de la base de datos. No olvidar que son 120 imágenes por clase, y que son 2 clases. \n",
        "\n",
        "A continuación haremos como ejemplo un clasificador de vecinos más cercanos. \n",
        "\n",
        "<font color='red'>**IMPORTANTE:** En todo el Ejercicio, el clasificador SIEMPRE \n",
        "\n",
        "* será entrenado con un **KNN de 3 vecinos**,\n",
        "\n",
        "* para el **TRAINING** se usarán las primeras **100 muestras** de cada clase,\n",
        "\n",
        "* para el **TESTING** se usarán las **20 muestras** restantes de cada clase.\n",
        "\n",
        "\n",
        "Los pasos a seguir para este ejercicio son los siguientes tres:\n",
        "\n",
        "## Primer paso: Cargar datos \n",
        "\n",
        "En este paso, cargamos en la matriz `X` las características extrídas que van a ser usadas por el clasificador. En nuestro primer ejemplo serían las caractererísticas LBP, es decir:\n",
        "\n",
        "`X = Xlbp`\n",
        "\n",
        "(el vector `y`, que contiene la clase a la que pertenece cada clase, es el mismo para LBP, Haralick y Gabor, así es que ya está definido en la pregunta anterior)\n",
        "\n",
        "## Segundo paso: Separar Training/Testing\n",
        "\n",
        "En este paso, separamos el conjunto de datos en training y testing usando el comando:\n",
        "\n",
        "`Xtrain,ytrain,Xtest,ytest = SplitTrainTest(X,y,ntrain)`\n",
        "\n",
        "donde `ntrain` es el número de muestras por clase a usar en el conjunto de training. \n",
        "\n",
        "A manera de ejemplo, si `X` tiene 60x8 elementos (es decir 60 muestras con 8 características por muestra) y tiene dos clases (es decir las primeras 30 filas son de la primera clase y las restantes 30 de la segunda clase) entonces el comando:\n",
        "\n",
        "`Xtrain,ytrain,Xtest,ytest = SplitTrainTest(X,y,25)`\n",
        "\n",
        "genera la siguiente salida:\n",
        "\n",
        "* `Xtrain` matriz de 50x8 elementos (las primeras 25 filas de la primera clase, las restante 25 filas de la segunda clase)\n",
        "* `ytrain` vector de 50 elementos (25 ceros y 25 unos)\n",
        "* `Xtest`  matriz de 10x8 elementos (las primeras 10 filas de la primera clase, las restante 10 filas de la segunda clase)\n",
        "* `ytest`  vector de 10 elementos (5 ceros y 5 unos)\n",
        "\n",
        "\n",
        "## Tercer paso: Clasificar y evaluar desempeño\n",
        "\n",
        "Para clasificar usaremos el siguiente comando, en el que se entrena un KNN usando `Xtrain,ytrain` y se prueba en `Xtest` de la siguiente manera:\n",
        "\n",
        "`acc,C = ClassifierKNN(Xtrain,ytrain,Xtest,ytest)`\n",
        "\n",
        "La clasificación del conjunto de pruebas (que es almacenado internamente en la variable `ypred`) es comparado con `ytest` para calcular el Accuracy (`acc`) y la matriz de confusión (`C`). En este caso la función `ClassifierKNN` realiza un KNN con 3 vecinos.\n",
        "\n",
        "**NOTA:** Las funciones `SplitTrainTest`  y `ClassifierKNN` se encuentran definidas más arriba en la celda \"Funciones Necesarias\".\n",
        "\n"
      ]
    },
    {
      "cell_type": "code",
      "metadata": {
        "id": "X2j5_4sOh2ua",
        "colab": {
          "base_uri": "https://localhost:8080/"
        },
        "outputId": "a05753f3-9d12-4df0-9776-48bf28a80464"
      },
      "source": [
        "# Paso 1: definir X\n",
        "X = Xlbp                         # <= COMPLETAR AQUI CON LA MATRIZ DE CARACTERÍSTICAS LBP\n",
        "\n",
        "# Paso 2: separar training/testing\n",
        "ntrain = 100                    # <= COMPLETAR AQUI EL NUMERO DE MUESTRAS POR CLASE PARA EL ENTRENAMIENTO\n",
        "Xtrain,ytrain,Xtest,ytest = SplitTrainTest(X,y,ntrain)\n",
        "\n",
        "# Paso 3: clasificar y evaluar desempeño\n",
        "acc_lbp,Clbp = ClassifierKNN(Xtrain,ytrain,Xtest,ytest)"
      ],
      "execution_count": 7,
      "outputs": [
        {
          "output_type": "stream",
          "name": "stdout",
          "text": [
            "Entrenando con 200 muestras y probando con 40 muestras\n",
            "Testing Accuracy = 92.5%\n",
            "Matriz de Confusión:\n",
            "[[20  0]\n",
            " [ 3 17]]\n"
          ]
        }
      ]
    },
    {
      "cell_type": "markdown",
      "metadata": {
        "id": "VmzJeLdPkWCA"
      },
      "source": [
        "# PREGUNTA 5: Clasificación usando Haralick (1 punto)\n",
        "\n",
        "Repetir los tres pasos de la celda anterior para realizar una clasificación usando Haralick. "
      ]
    },
    {
      "cell_type": "code",
      "metadata": {
        "id": "ABthai1wkwVS",
        "colab": {
          "base_uri": "https://localhost:8080/"
        },
        "outputId": "774e8f80-0e02-4371-b1c7-3a308878a2db"
      },
      "source": [
        "# Paso 1\n",
        "X = Xhar                         # <= COMPLETAR AQUI CON LA MATRIZ DE CARACTERÍSTICAS DE HARALICK\n",
        "\n",
        "# Paso 2\n",
        "Xtrain,ytrain,Xtest,ytest = SplitTrainTest(X,y,ntrain)\n",
        "\n",
        "# Paso 3\n",
        "acc_har,Char = ClassifierKNN(Xtrain,ytrain,Xtest,ytest)"
      ],
      "execution_count": 8,
      "outputs": [
        {
          "output_type": "stream",
          "name": "stdout",
          "text": [
            "Entrenando con 200 muestras y probando con 40 muestras\n",
            "Testing Accuracy = 92.5%\n",
            "Matriz de Confusión:\n",
            "[[20  0]\n",
            " [ 3 17]]\n"
          ]
        }
      ]
    },
    {
      "cell_type": "markdown",
      "metadata": {
        "id": "v_zcqYc7m0Qt"
      },
      "source": [
        "# PREGUNTA 6: Clasificación usando Gabor (1 punto)\n",
        "\n",
        "Repetir los tres pasos de la celda anterior para realizar una clasificación usando Gabor."
      ]
    },
    {
      "cell_type": "code",
      "metadata": {
        "id": "lUpjHFPlm-Y4",
        "colab": {
          "base_uri": "https://localhost:8080/"
        },
        "outputId": "1395c961-a571-48c7-fc6b-43a1230bc9bb"
      },
      "source": [
        "# Paso 1\n",
        "X = Xgab                         # <= COMPLETAR AQUI CON LA MATRIZ DE CARACTERÍSTICAS DE GABOR\n",
        "\n",
        "# Paso 2\n",
        "Xtrain,ytrain,Xtest,ytest = SplitTrainTest(X,y,ntrain)\n",
        "\n",
        "# Paso 3\n",
        "acc_gab,Cgab = ClassifierKNN(Xtrain,ytrain,Xtest,ytest)"
      ],
      "execution_count": 9,
      "outputs": [
        {
          "output_type": "stream",
          "name": "stdout",
          "text": [
            "Entrenando con 200 muestras y probando con 40 muestras\n",
            "Testing Accuracy = 85.0%\n",
            "Matriz de Confusión:\n",
            "[[18  2]\n",
            " [ 4 16]]\n"
          ]
        }
      ]
    },
    {
      "cell_type": "markdown",
      "metadata": {
        "id": "Un68iJ7qpT23"
      },
      "source": [
        "# PREGUNTA 7: Clasificación usando todas las características (2 puntos)\n",
        "\n",
        "Para este ejemplo de esta pregunta, usaremos las tres matrices `Xlbp`, `Xhar` y `Xgab`, es decir por cada muestra tendremos 59+24+67 = 150 características extraídas. Para concatenar las tres matrices, una al lado de la otra usaremos el comando `np.concatenate()` de la librería Numpy. \n",
        "\n",
        "A manera de ejemplo, si tenemos cuatro matrices `Z1`, `Z2`, `Z3` y `Z4`, cada una de 100x10 elementos, el comando \n",
        "\n",
        "`Z = np.concatenate((Z1,Z2,Z3,Z4), axis=1)`\n",
        "\n",
        "entrega una matriz `Z` de 100x40 elementos donde\n",
        "\n",
        " `Z = [ Z1 | Z2 | Z3 | Z4]`."
      ]
    },
    {
      "cell_type": "code",
      "metadata": {
        "id": "bgoDxviCqgux",
        "colab": {
          "base_uri": "https://localhost:8080/"
        },
        "outputId": "125ef6d6-fb4a-43a1-843b-d951a0e857a1"
      },
      "source": [
        "# Paso 1\n",
        "X = np.concatenate((Xlbp, Xhar, Xgab), axis=1 )   # <= COMPLETAR AQUI LA CONCATENACIÓN DE LBP, HARALICK Y GABOR (NO CAMBIAR EL ORDEN)\n",
        "\n",
        "# Paso 2\n",
        "Xtrain,ytrain,Xtest,ytest = SplitTrainTest(X,y,ntrain) # <= COMPLETAR AQUI LA FUNCION QUE SEPARA TRAINING Y TESTING\n",
        "\n",
        "# Paso 3\n",
        "acc_all,Call = ClassifierKNN(Xtrain,ytrain,Xtest,ytest)               # <= COMPLETAR AQUI LA FUNCION QUE CLASIFICA Y EVALUA DESEMPEÑO"
      ],
      "execution_count": 11,
      "outputs": [
        {
          "output_type": "stream",
          "name": "stdout",
          "text": [
            "Entrenando con 200 muestras y probando con 40 muestras\n",
            "Testing Accuracy = 90.0%\n",
            "Matriz de Confusión:\n",
            "[[20  0]\n",
            " [ 4 16]]\n"
          ]
        }
      ]
    },
    {
      "cell_type": "markdown",
      "metadata": {
        "id": "Qb48A-RJrGlQ"
      },
      "source": [
        "# PREGUNTA 8: Selección de características (2 puntos)\n",
        "\n",
        "Con el último resultado de la pregunta anterior, nos damos cuenta que al usar todas las características no necesariamente mejoramos el desempeño (ya que hay resultados individuales mejores). Una razón que puede explicar este fenómeno, es que muchas de las características extraídas no tienen un buen desempeño en estos datos porque no discriminan bien, y esto hace que el clasificador se confunda. Una solución a este problema es  seleccionar -de todas las características extraídas- aquellas que tienen un buen desempeño. En este ejemplo seleccionaremos 16 características de las 150 extraídas, que en conjunto se desempeñan muy bien en este problema. La selección fue previamente realizada y en este ejemplo está almacenada en el vector `sel`. La selección de características la veremos con detalle en el próximo capítulo del curso. \n",
        "\n",
        "Para seleccionar columnas se puede estudiar este ejemplo:\n",
        "\n",
        "Si `s = [2,5,7]`, entonces con `Y = Z[:,s]` obtenemos una matriz `Y` con el mismo número de filas de `Z` y con sólo tres columnas que corresponden a la segunda, quinta y séptima columnas de `Z` respectivamente.\n",
        "\n",
        "----\n",
        "<font color='red'> IMPORTANTE: Este ejemplo resulta bien sólo si en `X` se tienen concatenadas las matrices `Xlbp`, `Xhar` y `Xgab` (estrictamente en este orden, tal como se hizo en la pregunta anterior).\n",
        "\n",
        "----"
      ]
    },
    {
      "cell_type": "code",
      "metadata": {
        "id": "Qv1QDW483af0",
        "colab": {
          "base_uri": "https://localhost:8080/",
          "height": 522
        },
        "outputId": "98e8602e-24a8-4ae7-fe26-fd926abee96e"
      },
      "source": [
        "# columnas seleccionadas con un algoritmo de selección de características,\n",
        "# en este caso fueron seleccionadas las columnas 20, 22, 28,  etc..\n",
        "sel = [ 20,  22,  28,  29,  30,  47,  53,  58,  79,  92, 100, 127, 136, 139, 141, 149]\n",
        "\n",
        "# Paso 1\n",
        "# escoger columnas de X\n",
        "Xsel     = X[:,sel]           # <= COMPLETAR AQUI LA SELECCION DE LAS COLUMNAS DE X\n",
        "# Paso 2\n",
        "# separar training / testing\n",
        "# Paso 2\n",
        "Xtrain,ytrain,Xtest,ytest = SplitTrainTest(Xsel,y,ntrain) # <= COMPLETAR AQUI LA FUNCION QUE SEPARA TRAINING Y TESTING\n",
        "\n",
        "# Paso 3\n",
        "# clasificar\n",
        "acc_sel,Csel = ClassifierKNN(Xtrain,ytrain,Xtest,ytest)              # <= COMPLETAR AQUI LA FUNCION QUE CLASIFICA Y EVALUA DESEMPEÑO\n",
        "\n",
        "heatmap(Csel, cmap=\"YlGnBu\")\n",
        "plt.show()"
      ],
      "execution_count": 13,
      "outputs": [
        {
          "output_type": "stream",
          "name": "stdout",
          "text": [
            "Entrenando con 200 muestras y probando con 40 muestras\n",
            "Testing Accuracy = 95.0%\n",
            "Matriz de Confusión:\n",
            "[[20  0]\n",
            " [ 2 18]]\n"
          ]
        },
        {
          "output_type": "display_data",
          "data": {
            "text/plain": [
              "<Figure size 640x480 with 2 Axes>"
            ],
            "image/png": "[encoded data removed]"
          },
          "metadata": {}
        }
      ]
    },
    {
      "cell_type": "markdown",
      "source": [
        "# Resultados obtenidos"
      ],
      "metadata": {
        "id": "ATLBgp0A068o"
      }
    },
    {
      "cell_type": "code",
      "source": [
        "#\n",
        "# EJECUTAR ESTA CELDA SIN MODIFICARLA\n",
        "#\n",
        "\n",
        "print('P2: imagen(12,15):',imagen[12,15])\n",
        "print('P3:    LBP (2,20):',Xlbp[2,20])\n",
        "print('P3:    HAR (2,20):',Xhar[2,20])\n",
        "print('P3:    GAB (2,20):',Xgab[2,20])\n",
        "print('P4:       acc_lbp:',acc_lbp*100)\n",
        "print('P5:       acc_har:',acc_har*100)\n",
        "print('P6:       acc_gab:',acc_gab*100)\n",
        "print('P7:       acc_all:',acc_all*100)\n",
        "print('P8:       acc_sel:',acc_sel*100)\n"
      ],
      "metadata": {
        "id": "y1vlVjh31D-t",
        "colab": {
          "base_uri": "https://localhost:8080/"
        },
        "outputId": "27247e18-bf14-46dc-c139-8e58c7f93043"
      },
      "execution_count": 14,
      "outputs": [
        {
          "output_type": "stream",
          "name": "stdout",
          "text": [
            "P2: imagen(12,15): 117.0\n",
            "P3:    LBP (2,20): 91.0\n",
            "P3:    HAR (2,20): 0.00029573916343396736\n",
            "P3:    GAB (2,20): 251.0729830028847\n",
            "P4:       acc_lbp: 92.5\n",
            "P5:       acc_har: 92.5\n",
            "P6:       acc_gab: 85.0\n",
            "P7:       acc_all: 90.0\n",
            "P8:       acc_sel: 95.0\n"
          ]
        }
      ]
    },
    {
      "cell_type": "markdown",
      "metadata": {
        "id": "RIffHnis4bIp"
      },
      "source": [
        "# PASO FINAL: Subir tarea\n",
        "\n",
        "<font color='orange'> **ADVERTENCIA FINAL:** Este archivo, que debe llamarse [tu NumeroID].ipynb, debe subirse a Canvas según la hora señalada para la actividad E04.\n"
      ]
    }
  ]
}